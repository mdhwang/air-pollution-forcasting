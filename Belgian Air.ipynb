{
 "cells": [
  {
   "cell_type": "code",
   "execution_count": 15,
   "metadata": {},
   "outputs": [],
   "source": [
    "from pathlib import Path\n",
    "import pandas as pd\n",
    "import numpy as np\n",
    "\n",
    "import seaborn as sns\n",
    "import folium\n",
    "from folium.plugins import TimestampedGeoJson\n",
    "\n",
    "project_dir = Path('/Users/matthewhwang/projects/air-pollution-forcasting/data')"
   ]
  },
  {
   "cell_type": "code",
   "execution_count": 16,
   "metadata": {},
   "outputs": [],
   "source": [
    "pollutants = {\n",
    "    1: {\n",
    "        'notation' : 'SO2',\n",
    "        'name' :'Sulphur dioxide',\n",
    "        'bin_edges' : np.array([15,30,45,60,80,100,125,165,250])\n",
    "    },\n",
    "    5: {\n",
    "        'notation' : 'PM10',\n",
    "        'name' :'Particulate matter < 10 µm',\n",
    "        'bin_edges' : np.array([10,20,30,40,50,70,100,150,200])\n",
    "    },\n",
    "    7: {'notation' : 'O3',\n",
    "        'name' :'Ozone',\n",
    "        'bin_edges' : np.array([30,50,70,90,110,145,180,240,360])\n",
    "    },\n",
    "    8: {'notation' : 'NO2',\n",
    "        'name' :'Nitrogen dioxide',\n",
    "        'bin_edges' : np.array([25,45,60,80,110,150,200,270,400])\n",
    "    },\n",
    "    10: {'notation' : 'CO',\n",
    "        'name' :'Carbon monoxide',\n",
    "         'bin_edges' : np.array([1.4,2.1,2.8,3.6,4.5,5.2,6.6,8.4,13.7])\n",
    "    },\n",
    "    20: {'notation' : 'C6H6',\n",
    "        'name' :'Benzene',\n",
    "         'bin_edges' : np.array([0.5,1.0,1.25,1.5,2.75,3.5,5.0,7.5,10.0])\n",
    "    }\n",
    "}"
   ]
  },
  {
   "cell_type": "code",
   "execution_count": 18,
   "metadata": {},
   "outputs": [],
   "source": [
    "meta = pd.read_csv(project_dir / 'BE_2013-2015_metadata.csv', sep='\\t')"
   ]
  },
  {
   "cell_type": "code",
   "execution_count": 19,
   "metadata": {},
   "outputs": [
    {
     "data": {
      "image/png": "[encoded data removed]",
      "text/plain": [
       "<Figure size 720x72 with 1 Axes>"
      ]
     },
     "metadata": {
      "needs_background": "light"
     },
     "output_type": "display_data"
    }
   ],
   "source": [
    "color_scale = np.array(['#053061','#2166ac','#4393c3','#92c5de','#d1e5f0','#fddbc7','#f4a582','#d6604d','#b2182b','#67001f'])\n",
    "sns.palplot(sns.color_palette(color_scale))"
   ]
  },
  {
   "cell_type": "code",
   "execution_count": 28,
   "metadata": {},
   "outputs": [],
   "source": [
    "def load_data(pollutant_ID):\n",
    "    print('> Loading data...')\n",
    "    date_vars = ['DatetimeBegin','DatetimeEnd']\n",
    "    filename = 'BE_' + str(pollutant_ID) + '_2013-2015_aggregated_timeseries.csv'\n",
    "    agg_ts = pd.read_csv(project_dir / filename, sep='\\t', parse_dates=date_vars, date_parser=pd.to_datetime)\n",
    "    return agg_ts"
   ]
  },
  {
   "cell_type": "code",
   "execution_count": 23,
   "metadata": {},
   "outputs": [],
   "source": [
    "def clean_data(df):\n",
    "    print('> Cleaning data...')\n",
    "    df = df.loc[df.DataAggregationProcess=='P1D', :] \n",
    "    df = df.loc[df.UnitOfAirPollutionLevel!='count', :]\n",
    "    ser_avail_days = df.groupby('SamplingPoint').nunique()['DatetimeBegin']\n",
    "    df = df.loc[df.SamplingPoint.isin(ser_avail_days[ser_avail_days.values >= 1000].index), :]\n",
    "    vars_to_drop = ['AirPollutant','AirPollutantCode','Countrycode','Namespace','TimeCoverage','Validity','Verification','AirQualityStation',\n",
    "               'AirQualityStationEoICode','DataAggregationProcess','UnitOfAirPollutionLevel', 'DatetimeEnd', 'AirQualityNetwork',\n",
    "               'DataCapture', 'DataCoverage']\n",
    "    df.drop(columns=vars_to_drop, axis='columns', inplace=True)\n",
    "    \n",
    "    dates = list(pd.period_range(min(df.DatetimeBegin), max(df.DatetimeBegin), freq='D').values)\n",
    "    samplingpoints = list(df.SamplingPoint.unique())\n",
    "    new_idx = []\n",
    "    for sp in samplingpoints:\n",
    "        for d in dates:\n",
    "            new_idx.append((sp, np.datetime64(d)))\n",
    "\n",
    "    df.set_index(keys=['SamplingPoint', 'DatetimeBegin'], inplace=True)\n",
    "    df.sort_index(inplace=True)\n",
    "    df = df.reindex(new_idx)\n",
    "    df['AirPollutionLevel'] = df.groupby(level=0).AirPollutionLevel.bfill().fillna(0)\n",
    "    return df"
   ]
  },
  {
   "cell_type": "code",
   "execution_count": 24,
   "metadata": {},
   "outputs": [],
   "source": [
    "def color_coding(poll, bin_edges):    \n",
    "    idx = np.digitize(poll, bin_edges, right=True)\n",
    "    return color_scale[idx]\n",
    "\n",
    "def prepare_data(df, pollutant_ID):\n",
    "    print('> Preparing data...')\n",
    "    df = df.reset_index().merge(meta, how='inner', on='SamplingPoint').set_index('DatetimeBegin')\n",
    "    df = df.loc[:, ['SamplingPoint','Latitude', 'Longitude', 'AirPollutionLevel']]\n",
    "    df = df.groupby('SamplingPoint', group_keys=False).resample(rule='M').last().reset_index()\n",
    "    df['color'] = df.AirPollutionLevel.apply(color_coding, bin_edges=pollutants[pollutant_ID]['bin_edges'])\n",
    "    return df"
   ]
  },
  {
   "cell_type": "code",
   "execution_count": 25,
   "metadata": {},
   "outputs": [],
   "source": [
    "def create_geojson_features(df):\n",
    "    print('> Creating GeoJSON features...')\n",
    "    features = []\n",
    "    for _, row in df.iterrows():\n",
    "        feature = {\n",
    "            'type': 'Feature',\n",
    "            'geometry': {\n",
    "                'type':'Point', \n",
    "                'coordinates':[row['Longitude'],row['Latitude']]\n",
    "            },\n",
    "            'properties': {\n",
    "                'time': row['DatetimeBegin'].date().__str__(),\n",
    "                'style': {'color' : row['color']},\n",
    "                'icon': 'circle',\n",
    "                'iconstyle':{\n",
    "                    'fillColor': row['color'],\n",
    "                    'fillOpacity': 0.8,\n",
    "                    'stroke': 'true',\n",
    "                    'radius': 7\n",
    "                }\n",
    "            }\n",
    "        }\n",
    "        features.append(feature)\n",
    "    return features"
   ]
  },
  {
   "cell_type": "code",
   "execution_count": 26,
   "metadata": {},
   "outputs": [],
   "source": [
    "def make_map(features):\n",
    "    print('> Making map...')\n",
    "    coords_belgium=[50.5039, 4.4699]\n",
    "    pollution_map = folium.Map(location=coords_belgium, control_scale=True, zoom_start=8)\n",
    "\n",
    "    TimestampedGeoJson(\n",
    "        {'type': 'FeatureCollection',\n",
    "        'features': features}\n",
    "        , period='P1M'\n",
    "        , add_last_point=True\n",
    "        , auto_play=False\n",
    "        , loop=False\n",
    "        , max_speed=1\n",
    "        , loop_button=True\n",
    "        , date_options='YYYY/MM'\n",
    "        , time_slider_drag_update=True\n",
    "    ).add_to(pollution_map)\n",
    "    print('> Done.')\n",
    "    return pollution_map\n",
    "def plot_pollutant(pollutant_ID):\n",
    "    print('Mapping {} pollution in Belgium in 2013-2015'.format(pollutants[pollutant_ID]['name']))\n",
    "    df = load_data(pollutant_ID)\n",
    "    df = clean_data(df)\n",
    "    df = prepare_data(df, pollutant_ID)\n",
    "    features = create_geojson_features(df)\n",
    "    return make_map(features), df"
   ]
  },
  {
   "cell_type": "code",
   "execution_count": 29,
   "metadata": {},
   "outputs": [
    {
     "name": "stdout",
     "output_type": "stream",
     "text": [
      "Mapping Sulphur dioxide pollution in Belgium in 2013-2015\n",
      "> Loading data...\n",
      "> Cleaning data...\n",
      "> Preparing data...\n",
      "> Creating GeoJSON features...\n",
      "> Making map...\n",
      "> Done.\n"
     ]
    },
    {
     "ename": "FileNotFoundError",
     "evalue": "[Errno 2] No such file or directory: '../output/pollution_so2.html'",
     "output_type": "error",
     "traceback": [
      "\u001b[0;31m---------------------------------------------------------------------------\u001b[0m",
      "\u001b[0;31mFileNotFoundError\u001b[0m                         Traceback (most recent call last)",
      "\u001b[0;32m<ipython-input-29-531d02b9669e>\u001b[0m in \u001b[0;36m<module>\u001b[0;34m\u001b[0m\n\u001b[1;32m      1\u001b[0m \u001b[0mpollution_map\u001b[0m\u001b[0;34m,\u001b[0m \u001b[0mdf\u001b[0m \u001b[0;34m=\u001b[0m \u001b[0mplot_pollutant\u001b[0m\u001b[0;34m(\u001b[0m\u001b[0;36m1\u001b[0m\u001b[0;34m)\u001b[0m\u001b[0;34m\u001b[0m\u001b[0;34m\u001b[0m\u001b[0m\n\u001b[0;32m----> 2\u001b[0;31m \u001b[0mpollution_map\u001b[0m\u001b[0;34m.\u001b[0m\u001b[0msave\u001b[0m\u001b[0;34m(\u001b[0m\u001b[0;34m'../output/pollution_so2.html'\u001b[0m\u001b[0;34m)\u001b[0m\u001b[0;34m\u001b[0m\u001b[0;34m\u001b[0m\u001b[0m\n\u001b[0m\u001b[1;32m      3\u001b[0m \u001b[0mpollution_map\u001b[0m\u001b[0;34m\u001b[0m\u001b[0;34m\u001b[0m\u001b[0m\n",
      "\u001b[0;32m~/anaconda3/lib/python3.7/site-packages/branca/element.py\u001b[0m in \u001b[0;36msave\u001b[0;34m(self, outfile, close_file, **kwargs)\u001b[0m\n\u001b[1;32m    162\u001b[0m         \"\"\"\n\u001b[1;32m    163\u001b[0m         \u001b[0;32mif\u001b[0m \u001b[0misinstance\u001b[0m\u001b[0;34m(\u001b[0m\u001b[0moutfile\u001b[0m\u001b[0;34m,\u001b[0m \u001b[0mtext_type\u001b[0m\u001b[0;34m)\u001b[0m \u001b[0;32mor\u001b[0m \u001b[0misinstance\u001b[0m\u001b[0;34m(\u001b[0m\u001b[0moutfile\u001b[0m\u001b[0;34m,\u001b[0m \u001b[0mbinary_type\u001b[0m\u001b[0;34m)\u001b[0m\u001b[0;34m:\u001b[0m\u001b[0;34m\u001b[0m\u001b[0;34m\u001b[0m\u001b[0m\n\u001b[0;32m--> 164\u001b[0;31m             \u001b[0mfid\u001b[0m \u001b[0;34m=\u001b[0m \u001b[0mopen\u001b[0m\u001b[0;34m(\u001b[0m\u001b[0moutfile\u001b[0m\u001b[0;34m,\u001b[0m \u001b[0;34m'wb'\u001b[0m\u001b[0;34m)\u001b[0m\u001b[0;34m\u001b[0m\u001b[0;34m\u001b[0m\u001b[0m\n\u001b[0m\u001b[1;32m    165\u001b[0m         \u001b[0;32melse\u001b[0m\u001b[0;34m:\u001b[0m\u001b[0;34m\u001b[0m\u001b[0;34m\u001b[0m\u001b[0m\n\u001b[1;32m    166\u001b[0m             \u001b[0mfid\u001b[0m \u001b[0;34m=\u001b[0m \u001b[0moutfile\u001b[0m\u001b[0;34m\u001b[0m\u001b[0;34m\u001b[0m\u001b[0m\n",
      "\u001b[0;31mFileNotFoundError\u001b[0m: [Errno 2] No such file or directory: '../output/pollution_so2.html'"
     ]
    }
   ],
   "source": [
    "pollution_map, df = plot_pollutant(1)\n",
    "pollution_map.save('../output/pollution_so2.html')\n",
    "pollution_map"
   ]
  },
  {
   "cell_type": "code",
   "execution_count": null,
   "metadata": {},
   "outputs": [],
   "source": []
  }
 ],
 "metadata": {
  "kernelspec": {
   "display_name": "Python 3",
   "language": "python",
   "name": "python3"
  },
  "language_info": {
   "codemirror_mode": {
    "name": "ipython",
    "version": 3
   },
   "file_extension": ".py",
   "mimetype": "text/x-python",
   "name": "python",
   "nbconvert_exporter": "python",
   "pygments_lexer": "ipython3",
   "version": "3.7.3"
  }
 },
 "nbformat": 4,
 "nbformat_minor": 2
}
